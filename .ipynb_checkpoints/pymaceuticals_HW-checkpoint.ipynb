{
 "cells": [
  {
   "cell_type": "markdown",
   "metadata": {},
   "source": [
    "## Observations and Insights \n",
    "1. From the Mouse 1509 Treatment of Capomulin, we can see the drug was effective in slowing the growth of the cancer, as the Mouse's tumor volume decreased over time. However, the treament did not stop the spread of the tumor, as there are 3 Metastatic Sites at the 45 day timepoint for l509 and 0 sites initially.  \n",
    "2. From the number of mice tested per drug and the SEM, we can be relatively confident that the test results are consistent and accurate, as the sample sizes for all the drugs were relatively large(well above n=30 and none below 100) and the SEMs were relatively small (less than 1).\n",
    "3. From the summary statistics, we can see that Ketapril and Naftisol have larger Tumor Volume means, medians, variances, standard deviations and SEM than that of the placebo.  We can probably infer from the data that not only Ketapril and Naftisol are likely not effective, they might even be detrimental as cancer treatments.\n",
    "4. Extra: Stelasyn's summary statistics are very close to that of the Placebo's.  We can infer that Stelasyn may have no significant effect on the cancers, and may not be an effective cancer treatment."
   ]
  },
  {
   "cell_type": "markdown",
   "metadata": {},
   "source": []
  },
  {
   "cell_type": "code",
   "execution_count": 216,
   "metadata": {},
   "outputs": [
    {
     "data": {
      "text/html": [
       "<div>\n",
       "<style scoped>\n",
       "    .dataframe tbody tr th:only-of-type {\n",
       "        vertical-align: middle;\n",
       "    }\n",
       "\n",
       "    .dataframe tbody tr th {\n",
       "        vertical-align: top;\n",
       "    }\n",
       "\n",
       "    .dataframe thead th {\n",
       "        text-align: right;\n",
       "    }\n",
       "</style>\n",
       "<table border=\"1\" class=\"dataframe\">\n",
       "  <thead>\n",
       "    <tr style=\"text-align: right;\">\n",
       "      <th></th>\n",
       "      <th>Mouse ID</th>\n",
       "      <th>Drug Regimen</th>\n",
       "      <th>Sex</th>\n",
       "      <th>Age_months</th>\n",
       "      <th>Weight (g)</th>\n",
       "      <th>Timepoint</th>\n",
       "      <th>Tumor Volume (mm3)</th>\n",
       "      <th>Metastatic Sites</th>\n",
       "    </tr>\n",
       "  </thead>\n",
       "  <tbody>\n",
       "    <tr>\n",
       "      <th>0</th>\n",
       "      <td>k403</td>\n",
       "      <td>Ramicane</td>\n",
       "      <td>Male</td>\n",
       "      <td>21</td>\n",
       "      <td>16</td>\n",
       "      <td>0</td>\n",
       "      <td>45.000000</td>\n",
       "      <td>0</td>\n",
       "    </tr>\n",
       "    <tr>\n",
       "      <th>1</th>\n",
       "      <td>k403</td>\n",
       "      <td>Ramicane</td>\n",
       "      <td>Male</td>\n",
       "      <td>21</td>\n",
       "      <td>16</td>\n",
       "      <td>5</td>\n",
       "      <td>38.825898</td>\n",
       "      <td>0</td>\n",
       "    </tr>\n",
       "    <tr>\n",
       "      <th>2</th>\n",
       "      <td>k403</td>\n",
       "      <td>Ramicane</td>\n",
       "      <td>Male</td>\n",
       "      <td>21</td>\n",
       "      <td>16</td>\n",
       "      <td>10</td>\n",
       "      <td>35.014271</td>\n",
       "      <td>1</td>\n",
       "    </tr>\n",
       "    <tr>\n",
       "      <th>3</th>\n",
       "      <td>k403</td>\n",
       "      <td>Ramicane</td>\n",
       "      <td>Male</td>\n",
       "      <td>21</td>\n",
       "      <td>16</td>\n",
       "      <td>15</td>\n",
       "      <td>34.223992</td>\n",
       "      <td>1</td>\n",
       "    </tr>\n",
       "    <tr>\n",
       "      <th>4</th>\n",
       "      <td>k403</td>\n",
       "      <td>Ramicane</td>\n",
       "      <td>Male</td>\n",
       "      <td>21</td>\n",
       "      <td>16</td>\n",
       "      <td>20</td>\n",
       "      <td>32.997729</td>\n",
       "      <td>1</td>\n",
       "    </tr>\n",
       "    <tr>\n",
       "      <th>5</th>\n",
       "      <td>k403</td>\n",
       "      <td>Ramicane</td>\n",
       "      <td>Male</td>\n",
       "      <td>21</td>\n",
       "      <td>16</td>\n",
       "      <td>25</td>\n",
       "      <td>33.464577</td>\n",
       "      <td>1</td>\n",
       "    </tr>\n",
       "    <tr>\n",
       "      <th>6</th>\n",
       "      <td>k403</td>\n",
       "      <td>Ramicane</td>\n",
       "      <td>Male</td>\n",
       "      <td>21</td>\n",
       "      <td>16</td>\n",
       "      <td>30</td>\n",
       "      <td>31.099498</td>\n",
       "      <td>1</td>\n",
       "    </tr>\n",
       "    <tr>\n",
       "      <th>7</th>\n",
       "      <td>k403</td>\n",
       "      <td>Ramicane</td>\n",
       "      <td>Male</td>\n",
       "      <td>21</td>\n",
       "      <td>16</td>\n",
       "      <td>35</td>\n",
       "      <td>26.546993</td>\n",
       "      <td>1</td>\n",
       "    </tr>\n",
       "    <tr>\n",
       "      <th>8</th>\n",
       "      <td>k403</td>\n",
       "      <td>Ramicane</td>\n",
       "      <td>Male</td>\n",
       "      <td>21</td>\n",
       "      <td>16</td>\n",
       "      <td>40</td>\n",
       "      <td>24.365505</td>\n",
       "      <td>1</td>\n",
       "    </tr>\n",
       "    <tr>\n",
       "      <th>9</th>\n",
       "      <td>k403</td>\n",
       "      <td>Ramicane</td>\n",
       "      <td>Male</td>\n",
       "      <td>21</td>\n",
       "      <td>16</td>\n",
       "      <td>45</td>\n",
       "      <td>22.050126</td>\n",
       "      <td>1</td>\n",
       "    </tr>\n",
       "    <tr>\n",
       "      <th>10</th>\n",
       "      <td>s185</td>\n",
       "      <td>Capomulin</td>\n",
       "      <td>Female</td>\n",
       "      <td>3</td>\n",
       "      <td>17</td>\n",
       "      <td>0</td>\n",
       "      <td>45.000000</td>\n",
       "      <td>0</td>\n",
       "    </tr>\n",
       "  </tbody>\n",
       "</table>\n",
       "</div>"
      ],
      "text/plain": [
       "   Mouse ID Drug Regimen     Sex  Age_months  Weight (g)  Timepoint  \\\n",
       "0      k403     Ramicane    Male          21          16          0   \n",
       "1      k403     Ramicane    Male          21          16          5   \n",
       "2      k403     Ramicane    Male          21          16         10   \n",
       "3      k403     Ramicane    Male          21          16         15   \n",
       "4      k403     Ramicane    Male          21          16         20   \n",
       "5      k403     Ramicane    Male          21          16         25   \n",
       "6      k403     Ramicane    Male          21          16         30   \n",
       "7      k403     Ramicane    Male          21          16         35   \n",
       "8      k403     Ramicane    Male          21          16         40   \n",
       "9      k403     Ramicane    Male          21          16         45   \n",
       "10     s185    Capomulin  Female           3          17          0   \n",
       "\n",
       "    Tumor Volume (mm3)  Metastatic Sites  \n",
       "0            45.000000                 0  \n",
       "1            38.825898                 0  \n",
       "2            35.014271                 1  \n",
       "3            34.223992                 1  \n",
       "4            32.997729                 1  \n",
       "5            33.464577                 1  \n",
       "6            31.099498                 1  \n",
       "7            26.546993                 1  \n",
       "8            24.365505                 1  \n",
       "9            22.050126                 1  \n",
       "10           45.000000                 0  "
      ]
     },
     "execution_count": 216,
     "metadata": {},
     "output_type": "execute_result"
    }
   ],
   "source": [
    "# Dependencies and Setup\n",
    "import matplotlib.pyplot as plt\n",
    "import pandas as pd\n",
    "import scipy.stats as st\n",
    "import numpy as np\n",
    "\n",
    "# Study data files\n",
    "mouse_metadata_path = \"data/Mouse_metadata.csv\"\n",
    "study_results_path = \"data/Study_results.csv\"\n",
    "\n",
    "# Read the mouse data and the study results\n",
    "mouse_metadata = pd.read_csv(mouse_metadata_path)\n",
    "study_results = pd.read_csv(study_results_path)\n",
    "#determine appropriate \n",
    "#mouse_metadata.head()\n",
    "#study_results.head()\n",
    "# Combine the data into a single dataset (inner)\n",
    "merged_data = pd.merge(mouse_metadata,study_results, on='Mouse ID')\n",
    "#display\n",
    "merged_data.head(11)"
   ]
  },
  {
   "cell_type": "code",
   "execution_count": 217,
   "metadata": {},
   "outputs": [
    {
     "name": "stdout",
     "output_type": "stream",
     "text": [
      "The number of Mice in the study is: 249\n"
     ]
    }
   ],
   "source": [
    "# Checking the number of mice in the DataFrame.\n",
    "mice_number = len(merged_data['Mouse ID'].value_counts())\n",
    "print(f'The number of Mice in the study is: {mice_number}')\n",
    "#merged_data['Mouse ID'].value_counts()"
   ]
  },
  {
   "cell_type": "code",
   "execution_count": 218,
   "metadata": {},
   "outputs": [
    {
     "name": "stdout",
     "output_type": "stream",
     "text": [
      "The number of Mice in the clean dataset is: 248\n",
      "Looks like 1 point of bad data was removed\n"
     ]
    }
   ],
   "source": [
    "# Getting the duplicate mice by ID number that shows up for Mouse ID and Timepoint. \n",
    "duplicates = merged_data.loc[merged_data.duplicated(subset=['Mouse ID','Timepoint']),'Mouse ID'].unique()\n",
    "# create a clean data frame without duplicates\n",
    "clean_merged_data = merged_data[merged_data['Mouse ID'].isin(duplicates)==False]\n",
    "#checking differences in data frames after clean up\n",
    "cleaned_length = len(clean_merged_data['Mouse ID'].value_counts())\n",
    "print(f'The number of Mice in the clean dataset is: {cleaned_length}')\n",
    "print('Looks like 1 point of bad data was removed')"
   ]
  },
  {
   "cell_type": "code",
   "execution_count": 222,
   "metadata": {},
   "outputs": [
    {
     "data": {
      "text/plain": [
       "909    g989\n",
       "911    g989\n",
       "913    g989\n",
       "915    g989\n",
       "917    g989\n",
       "Name: Mouse ID, dtype: object"
      ]
     },
     "execution_count": 222,
     "metadata": {},
     "output_type": "execute_result"
    }
   ],
   "source": [
    "# Optional: Get all the data for the duplicate mouse ID. \n",
    "merged_data.loc[merged_data.duplicated(subset=['Mouse ID','Timepoint']),'Mouse ID']"
   ]
  },
  {
   "cell_type": "code",
   "execution_count": 223,
   "metadata": {},
   "outputs": [],
   "source": [
    "# Create a clean DataFrame by dropping the duplicate mouse by its ID.\n",
    "# create a clean data frame without duplicates\n",
    "clean_merged_data = merged_data[merged_data['Mouse ID'].isin(duplicates)==False]"
   ]
  },
  {
   "cell_type": "code",
   "execution_count": 224,
   "metadata": {},
   "outputs": [
    {
     "data": {
      "text/plain": [
       "248"
      ]
     },
     "execution_count": 224,
     "metadata": {},
     "output_type": "execute_result"
    }
   ],
   "source": [
    "# Checking the number of mice in the clean DataFrame.\n",
    "len(clean_merged_data['Mouse ID'].value_counts())"
   ]
  },
  {
   "cell_type": "markdown",
   "metadata": {},
   "source": [
    "## Summary Statistics"
   ]
  },
  {
   "cell_type": "code",
   "execution_count": 225,
   "metadata": {},
   "outputs": [
    {
     "data": {
      "text/html": [
       "<div>\n",
       "<style scoped>\n",
       "    .dataframe tbody tr th:only-of-type {\n",
       "        vertical-align: middle;\n",
       "    }\n",
       "\n",
       "    .dataframe tbody tr th {\n",
       "        vertical-align: top;\n",
       "    }\n",
       "\n",
       "    .dataframe thead th {\n",
       "        text-align: right;\n",
       "    }\n",
       "</style>\n",
       "<table border=\"1\" class=\"dataframe\">\n",
       "  <thead>\n",
       "    <tr style=\"text-align: right;\">\n",
       "      <th></th>\n",
       "      <th>Tumor Vol Mean</th>\n",
       "      <th>Tumor Vol Median</th>\n",
       "      <th>Tumor Vol Variance</th>\n",
       "      <th>Tumor Vol Std Dev</th>\n",
       "      <th>Tumor Vol SEM</th>\n",
       "    </tr>\n",
       "    <tr>\n",
       "      <th>Drug Regimen</th>\n",
       "      <th></th>\n",
       "      <th></th>\n",
       "      <th></th>\n",
       "      <th></th>\n",
       "      <th></th>\n",
       "    </tr>\n",
       "  </thead>\n",
       "  <tbody>\n",
       "    <tr>\n",
       "      <th>Capomulin</th>\n",
       "      <td>40.675741</td>\n",
       "      <td>41.557809</td>\n",
       "      <td>24.947764</td>\n",
       "      <td>4.994774</td>\n",
       "      <td>0.329346</td>\n",
       "    </tr>\n",
       "    <tr>\n",
       "      <th>Ceftamin</th>\n",
       "      <td>52.591172</td>\n",
       "      <td>51.776157</td>\n",
       "      <td>39.290177</td>\n",
       "      <td>6.268188</td>\n",
       "      <td>0.469821</td>\n",
       "    </tr>\n",
       "    <tr>\n",
       "      <th>Infubinol</th>\n",
       "      <td>52.884795</td>\n",
       "      <td>51.820584</td>\n",
       "      <td>43.128684</td>\n",
       "      <td>6.567243</td>\n",
       "      <td>0.492236</td>\n",
       "    </tr>\n",
       "    <tr>\n",
       "      <th>Ketapril</th>\n",
       "      <td>55.235638</td>\n",
       "      <td>53.698743</td>\n",
       "      <td>68.553577</td>\n",
       "      <td>8.279709</td>\n",
       "      <td>0.603860</td>\n",
       "    </tr>\n",
       "    <tr>\n",
       "      <th>Naftisol</th>\n",
       "      <td>54.331565</td>\n",
       "      <td>52.509285</td>\n",
       "      <td>66.173479</td>\n",
       "      <td>8.134708</td>\n",
       "      <td>0.596466</td>\n",
       "    </tr>\n",
       "    <tr>\n",
       "      <th>Placebo</th>\n",
       "      <td>54.033581</td>\n",
       "      <td>52.288934</td>\n",
       "      <td>61.168083</td>\n",
       "      <td>7.821003</td>\n",
       "      <td>0.581331</td>\n",
       "    </tr>\n",
       "    <tr>\n",
       "      <th>Propriva</th>\n",
       "      <td>52.320930</td>\n",
       "      <td>50.446266</td>\n",
       "      <td>43.852013</td>\n",
       "      <td>6.622085</td>\n",
       "      <td>0.544332</td>\n",
       "    </tr>\n",
       "    <tr>\n",
       "      <th>Ramicane</th>\n",
       "      <td>40.216745</td>\n",
       "      <td>40.673236</td>\n",
       "      <td>23.486704</td>\n",
       "      <td>4.846308</td>\n",
       "      <td>0.320955</td>\n",
       "    </tr>\n",
       "    <tr>\n",
       "      <th>Stelasyn</th>\n",
       "      <td>54.233149</td>\n",
       "      <td>52.431737</td>\n",
       "      <td>59.450562</td>\n",
       "      <td>7.710419</td>\n",
       "      <td>0.573111</td>\n",
       "    </tr>\n",
       "    <tr>\n",
       "      <th>Zoniferol</th>\n",
       "      <td>53.236507</td>\n",
       "      <td>51.818479</td>\n",
       "      <td>48.533355</td>\n",
       "      <td>6.966589</td>\n",
       "      <td>0.516398</td>\n",
       "    </tr>\n",
       "  </tbody>\n",
       "</table>\n",
       "</div>"
      ],
      "text/plain": [
       "              Tumor Vol Mean  Tumor Vol Median  Tumor Vol Variance  \\\n",
       "Drug Regimen                                                         \n",
       "Capomulin          40.675741         41.557809           24.947764   \n",
       "Ceftamin           52.591172         51.776157           39.290177   \n",
       "Infubinol          52.884795         51.820584           43.128684   \n",
       "Ketapril           55.235638         53.698743           68.553577   \n",
       "Naftisol           54.331565         52.509285           66.173479   \n",
       "Placebo            54.033581         52.288934           61.168083   \n",
       "Propriva           52.320930         50.446266           43.852013   \n",
       "Ramicane           40.216745         40.673236           23.486704   \n",
       "Stelasyn           54.233149         52.431737           59.450562   \n",
       "Zoniferol          53.236507         51.818479           48.533355   \n",
       "\n",
       "              Tumor Vol Std Dev  Tumor Vol SEM  \n",
       "Drug Regimen                                    \n",
       "Capomulin              4.994774       0.329346  \n",
       "Ceftamin               6.268188       0.469821  \n",
       "Infubinol              6.567243       0.492236  \n",
       "Ketapril               8.279709       0.603860  \n",
       "Naftisol               8.134708       0.596466  \n",
       "Placebo                7.821003       0.581331  \n",
       "Propriva               6.622085       0.544332  \n",
       "Ramicane               4.846308       0.320955  \n",
       "Stelasyn               7.710419       0.573111  \n",
       "Zoniferol              6.966589       0.516398  "
      ]
     },
     "execution_count": 225,
     "metadata": {},
     "output_type": "execute_result"
    }
   ],
   "source": [
    "# Generate a summary statistics table of mean, median, variance, standard deviation, and SEM of the tumor volume for each regimen\n",
    "drug_data = clean_merged_data.groupby(['Drug Regimen'])\n",
    "drug_data.head()\n",
    "#means of all drugs\n",
    "tumor_mean = drug_data['Tumor Volume (mm3)'].mean()\n",
    "#medians\n",
    "tumor_median = drug_data['Tumor Volume (mm3)'].median()\n",
    "#variance\n",
    "var_data = clean_merged_data.groupby(['Drug Regimen']).var()\n",
    "var_tumor = var_data['Tumor Volume (mm3)']\n",
    "#standard deviation\n",
    "std_data = clean_merged_data.groupby(['Drug Regimen']).std()\n",
    "std_tumor = std_data['Tumor Volume (mm3)']\n",
    "std_tumor\n",
    "#Stardard Error of the Mean\n",
    "SEM_data = clean_merged_data.groupby(['Drug Regimen']).sem()\n",
    "SEM_tumor = SEM_data['Tumor Volume (mm3)']\n",
    "SEM_tumor\n",
    "# This method is the most straightforward, creating multiple series and putting them all together at the end.\n",
    "tumor_df = pd.DataFrame({'Tumor Vol Mean':tumor_mean,'Tumor Vol Median':tumor_median,\n",
    "                        'Tumor Vol Variance':var_tumor,'Tumor Vol Std Dev':std_tumor,\n",
    "                        'Tumor Vol SEM':SEM_tumor})\n",
    "tumor_df"
   ]
  },
  {
   "cell_type": "code",
   "execution_count": null,
   "metadata": {
    "scrolled": true
   },
   "outputs": [],
   "source": []
  },
  {
   "cell_type": "markdown",
   "metadata": {},
   "source": [
    "## Bar Plots"
   ]
  },
  {
   "cell_type": "code",
   "execution_count": 226,
   "metadata": {},
   "outputs": [
    {
     "data": {
      "text/plain": [
       "Text(0.5, 1.0, 'Number of Data Points for Each Drug Regimen')"
      ]
     },
     "execution_count": 226,
     "metadata": {},
     "output_type": "execute_result"
    },
    {
     "data": {
      "image/png": "[encoded data removed]",
      "text/plain": [
       "<Figure size 432x288 with 1 Axes>"
      ]
     },
     "metadata": {
      "needs_background": "light"
     },
     "output_type": "display_data"
    }
   ],
   "source": [
    "# Generate a bar plot showing the number of mice per time point for each treatment throughout the course of the study using pandas.\n",
    "#create data for bar plot\n",
    "mice_count = drug_data['Mouse ID'].count()\n",
    "drug_count = merged_data['Drug Regimen'].value_counts()\n",
    "\n",
    "#plot\n",
    "pandas_mice_bar = mice_count.plot.bar()\n",
    "pandas_mice_bar.set_xlabel(\"Drug Regimen\")\n",
    "pandas_mice_bar.set_ylabel(\"Number of Data Points\")\n",
    "pandas_mice_bar.set_title(\"Number of Data Points for Each Drug Regimen\")\n",
    "\n"
   ]
  },
  {
   "cell_type": "code",
   "execution_count": 227,
   "metadata": {},
   "outputs": [
    {
     "data": {
      "text/plain": [
       "([0, 1, 2, 3, 4, 5, 6, 7, 8, 9], <a list of 10 Text xticklabel objects>)"
      ]
     },
     "execution_count": 227,
     "metadata": {},
     "output_type": "execute_result"
    },
    {
     "data": {
      "image/png": "[encoded data removed]",
      "text/plain": [
       "<Figure size 432x288 with 1 Axes>"
      ]
     },
     "metadata": {
      "needs_background": "light"
     },
     "output_type": "display_data"
    }
   ],
   "source": [
    "# Generate a bar plot showing the number of mice per time point for each treatment throughout the course of the study using pyplot.\n",
    "#pyplot graph\n",
    "study_barplot = plt.bar(mice_count.index,mice_count, color='b', alpha = 0.7, align = 'center')\n",
    "plt.xlabel(\"Drug Regimen\")\n",
    "plt.ylabel(\"Number of Data Points\")\n",
    "plt.title(\"Number of Data Points for Each Drug Regimen\")\n",
    "plt.xticks(rotation='vertical')"
   ]
  },
  {
   "cell_type": "markdown",
   "metadata": {},
   "source": [
    "## Pie Plots"
   ]
  },
  {
   "cell_type": "code",
   "execution_count": 228,
   "metadata": {},
   "outputs": [
    {
     "data": {
      "text/plain": [
       "Text(0.5, 1.0, 'Distribution of Female Versus Male Mice')"
      ]
     },
     "execution_count": 228,
     "metadata": {},
     "output_type": "execute_result"
    },
    {
     "data": {
      "image/png": "[encoded data removed]",
      "text/plain": [
       "<Figure size 432x288 with 1 Axes>"
      ]
     },
     "metadata": {},
     "output_type": "display_data"
    }
   ],
   "source": [
    "# Generate a pie plot showing the distribution of female versus male mice using pandas\n",
    "gender = clean_merged_data['Sex'].value_counts()\n",
    "#print(gender)\n",
    "gender_pie = gender.plot.pie(autopct=\"%1.1f%%\")\n",
    "gender_pie.set_title(\"Distribution of Female Versus Male Mice\")\n"
   ]
  },
  {
   "cell_type": "code",
   "execution_count": 229,
   "metadata": {},
   "outputs": [
    {
     "data": {
      "text/plain": [
       "Text(0, 0.5, 'Sex')"
      ]
     },
     "execution_count": 229,
     "metadata": {},
     "output_type": "execute_result"
    },
    {
     "data": {
      "image/png": "[encoded data removed]",
      "text/plain": [
       "<Figure size 432x288 with 1 Axes>"
      ]
     },
     "metadata": {},
     "output_type": "display_data"
    }
   ],
   "source": [
    "# Generate a pie plot showing the distribution of female versus male mice using pyplot\n",
    "labels = gender.index\n",
    "\n",
    "plt.pie(gender,labels=labels,shadow=False, startangle=0,autopct=\"%1.1f%%\")\n",
    "plt.title(\"Distribution of Female Versus Male Mice\")\n",
    "plt.ylabel(\"Sex\")"
   ]
  },
  {
   "cell_type": "markdown",
   "metadata": {},
   "source": [
    "## Quartiles, Outliers and Boxplots"
   ]
  },
  {
   "cell_type": "code",
   "execution_count": 230,
   "metadata": {},
   "outputs": [
    {
     "name": "stdout",
     "output_type": "stream",
     "text": [
      "A possible outlier for <Infubinol> outside the IQR of lower bound: (36.83) and upper bound: (82.74)\n",
      "         Drug Regimen  Timepoint  Tumor Volume (mm3)\n",
      "Mouse ID                                            \n",
      "c326        Infubinol          5           36.321346\n"
     ]
    }
   ],
   "source": [
    "# Calculate the final tumor volume of each mouse across four of the most promising treatment regimens. Calculate the IQR and quantitatively determine if there are any potential outliers. \n",
    "#determined top 4 drugs (by lowest SEM)\n",
    "best_r = tumor_df.sort_values(['Tumor Vol SEM'],ascending=True)\n",
    "best_r.head(4)\n",
    "#make a table for the top 4 drugs\n",
    "best_table = clean_merged_data.loc[merged_data['Drug Regimen'].isin([\"Capomulin\", \"Ramicane\", \"Infubinol\", \"Ceftamin\"])]\n",
    "best_table\n",
    "#truncate data\n",
    "best_r_data = best_table[['Drug Regimen','Mouse ID',\"Timepoint\",\"Tumor Volume (mm3)\"]]\n",
    "#Capture final Tumor Vol, group by Mouse ID\n",
    "best_r_last =  best_r_data.groupby(['Mouse ID']).last()\n",
    "best_r_sort = best_r_last.sort_values(['Drug Regimen'],ascending=True)\n",
    "#IQR of each drug: \n",
    "#note - probably should have figured out how to use a loop or def for this, but I couldn't get it to work\n",
    "\n",
    "#Capomulin\n",
    "data_cap = best_r_sort.loc[best_r_sort['Drug Regimen'].isin([\"Capomulin\"])]\n",
    "quar_cap = data_cap.quantile([.25,.5,.75])\n",
    "#IQR etc.\n",
    "upper_cap = quar_cap['Tumor Volume (mm3)'][0.75]\n",
    "lower_cap = quar_cap['Tumor Volume (mm3)'][0.25]\n",
    "iqr_cap = upper_cap-lower_cap\n",
    "low_bound_cap = lower_cap - (1.5*iqr_cap)\n",
    "up_bound_cap = upper_cap + (1.5*iqr_cap)\n",
    "\n",
    "#find outliers\n",
    "outliers_cap_up = data_cap.loc[(data_cap['Tumor Volume (mm3)']<low_bound_cap)]\n",
    "outliers_cap_low = data_cap.loc[(data_cap['Tumor Volume (mm3)']>up_bound_cap)]\n",
    "#returned no data points\n",
    "\n",
    "#Ramicane\n",
    "data_ram = best_r_sort.loc[best_r_sort['Drug Regimen'].isin([\"Ramicane\"])]\n",
    "quar_ram = data_ram.quantile([.25,.5,.75])\n",
    "#IQR etc.\n",
    "upper_ram = quar_ram['Tumor Volume (mm3)'][0.75]\n",
    "lower_ram = quar_ram['Tumor Volume (mm3)'][0.25]\n",
    "iqr_ram = upper_ram-lower_ram\n",
    "low_bound_ram = lower_ram - (1.5*iqr_ram)\n",
    "up_bound_ram = upper_ram + (1.5*iqr_ram)\n",
    "#find outliers\n",
    "outliers_ram_up = data_ram.loc[(data_ram['Tumor Volume (mm3)']<low_bound_ram)]\n",
    "outliers_ram_low = data_ram.loc[(data_ram['Tumor Volume (mm3)']>up_bound_ram)]\n",
    "#returned no data points\n",
    "\n",
    "#Infubinol\n",
    "data_inf = best_r_sort.loc[best_r_sort['Drug Regimen'].isin([\"Infubinol\"])]\n",
    "quar_inf = data_inf.quantile([.25,.5,.75])\n",
    "#IQR etc.\n",
    "lower_inf = quar_inf['Tumor Volume (mm3)'][0.25]\n",
    "upper_inf = quar_inf['Tumor Volume (mm3)'][0.75]\n",
    "iqr_inf = upper_inf - lower_inf\n",
    "low_bound_inf = lower_inf - (1.5*iqr_inf)\n",
    "up_bound_inf = upper_inf + (1.5*iqr_inf)\n",
    "#find outliers\n",
    "outliers_inf_up = data_inf.loc[(data_inf['Tumor Volume (mm3)']<low_bound_inf)]\n",
    "outliers_inf_low = data_inf.loc[(data_inf['Tumor Volume (mm3)']>up_bound_inf)]\n",
    "#<outliers_inf_up> returned Mouse ID c326 as a possible outlier\n",
    "\n",
    "#Ceftamin\n",
    "data_cef = best_r_sort.loc[best_r_sort['Drug Regimen'].isin([\"Ceftamin\"])]\n",
    "quar_cef = data_cef.quantile([.25,.5,.75])\n",
    "#IQR etc.\n",
    "lower_cef = quar_cef['Tumor Volume (mm3)'][0.25]\n",
    "upper_cef = quar_cef['Tumor Volume (mm3)'][0.75]\n",
    "iqr_cef = upper_cef-lower_cef\n",
    "low_bound_cef = lower_cef - (1.5*iqr_cef)\n",
    "up_bound_cef = upper_cef + (1.5*iqr_cef)\n",
    "#find outliers\n",
    "outliers_cef_up = data_cef.loc[(data_cef['Tumor Volume (mm3)']<low_bound_cef)]\n",
    "outliers_cef_low = data_cef.loc[(data_cef['Tumor Volume (mm3)']>up_bound_cef)]\n",
    "#returned no data points\n",
    "\n",
    "#outliers:\n",
    "print(f'A possible outlier for <Infubinol> outside the IQR of lower bound: ({round(low_bound_inf,2)}) and upper bound: ({round(up_bound_inf,2)})')\n",
    "print(outliers_inf_up)"
   ]
  },
  {
   "cell_type": "code",
   "execution_count": 231,
   "metadata": {},
   "outputs": [
    {
     "data": {
      "text/plain": [
       "Text(0.5, 0, 'Drug Regimen')"
      ]
     },
     "execution_count": 231,
     "metadata": {},
     "output_type": "execute_result"
    },
    {
     "data": {
      "image/png": "[encoded data removed]",
      "text/plain": [
       "<Figure size 432x288 with 1 Axes>"
      ]
     },
     "metadata": {
      "needs_background": "light"
     },
     "output_type": "display_data"
    }
   ],
   "source": [
    "# Generate a box plot of the final tumor volume of each mouse across four regimens of interest\n",
    "#create dataset, sort by ID and regimen\n",
    "box_data =  best_r_data.groupby(['Drug Regimen','Mouse ID']).last()\n",
    "#create labels for the boxplot\n",
    "labels = ['Capomulin','Ramicane','Infubinol','Ceftamin']\n",
    "#create data series for the boxplot\n",
    "data1 = data_cap['Tumor Volume (mm3)']\n",
    "data2 = data_ram['Tumor Volume (mm3)']\n",
    "data3 = data_inf['Tumor Volume (mm3)']\n",
    "data4 = data_cef['Tumor Volume (mm3)']\n",
    "data_all =[data1,data2,data3,data4]\n",
    "#set flier configuration\n",
    "flierprops = dict(marker='o', markerfacecolor='r', markersize=12,\n",
    "                  linestyle='none')\n",
    "#plot boxplot\n",
    "plt.boxplot(data_all,labels=labels,flierprops=flierprops)\n",
    "plt.ylabel('Final Tumor Volume (mm3)')\n",
    "plt.xlabel('Drug Regimen')"
   ]
  },
  {
   "cell_type": "markdown",
   "metadata": {},
   "source": [
    "## Line and Scatter Plots"
   ]
  },
  {
   "cell_type": "code",
   "execution_count": 235,
   "metadata": {},
   "outputs": [
    {
     "data": {
      "text/plain": [
       "Text(0, 0.5, 'Tumor Volume (mm3)')"
      ]
     },
     "execution_count": 235,
     "metadata": {},
     "output_type": "execute_result"
    },
    {
     "data": {
      "image/png": "[encoded data removed]",
      "text/plain": [
       "<Figure size 432x288 with 1 Axes>"
      ]
     },
     "metadata": {
      "needs_background": "light"
     },
     "output_type": "display_data"
    }
   ],
   "source": [
    "# Generate a line plot of time point versus tumor volume for a mouse treated with Capomulin\n",
    "#generate data\n",
    "trunc_data = merged_data[['Drug Regimen','Tumor Volume (mm3)','Mouse ID','Timepoint','Weight (g)','Metastatic Sites']]\n",
    "#filter by Drug then take data for 1 mouse only - l509\n",
    "cap_data = trunc_data.loc[trunc_data['Drug Regimen'] == 'Capomulin']\n",
    "m_cap_data = cap_data.loc[cap_data['Mouse ID'] == 'l509']\n",
    "#generate line plot:\n",
    "plt.plot(m_cap_data['Timepoint'],m_cap_data['Tumor Volume (mm3)'])\n",
    "plt.title('Capomulin Treatment of Mouse l509')\n",
    "plt.xlabel('Timepoint (days)')\n",
    "plt.ylabel('Tumor Volume (mm3)')\n",
    "#"
   ]
  },
  {
   "cell_type": "code",
   "execution_count": 233,
   "metadata": {},
   "outputs": [
    {
     "data": {
      "image/png": "[encoded data removed]",
      "text/plain": [
       "<Figure size 432x288 with 1 Axes>"
      ]
     },
     "metadata": {
      "needs_background": "light"
     },
     "output_type": "display_data"
    }
   ],
   "source": [
    "# Generate a scatter plot of mouse weight versus average tumor volume for the Capomulin regimen\n",
    "#use previous filtered data to create data for average tumor volume:\n",
    "cap_group = cap_data.groupby(['Mouse ID'])\n",
    "cap_ave = c_group.mean()\n",
    "#plot scatter:\n",
    "plt.scatter(cap_ave['Weight (g)'],cap_ave['Tumor Volume (mm3)'], marker='o', facecolors = \"blue\",)\n",
    "plt.xlabel('Weight (g)')\n",
    "plt.ylabel('Average Tumor Volume (mm3)')\n",
    "plt.title('Mouse Weight versus Average Tumor Volume for Capomulin')\n",
    "plt.show()\n",
    "#cap_data.loc[cap_data['Mouse ID']=='l509']"
   ]
  },
  {
   "cell_type": "markdown",
   "metadata": {},
   "source": [
    "## Correlation and Regression"
   ]
  },
  {
   "cell_type": "code",
   "execution_count": 234,
   "metadata": {},
   "outputs": [
    {
     "data": {
      "image/png": "[encoded data removed]",
      "text/plain": [
       "<Figure size 432x288 with 1 Axes>"
      ]
     },
     "metadata": {
      "needs_background": "light"
     },
     "output_type": "display_data"
    },
    {
     "name": "stdout",
     "output_type": "stream",
     "text": [
      "The correlation coefficient (r) is 0.8419363424694718\n",
      "The r-squared value is 0.7088568047708717\n",
      "The line equation is y = 0.95x + 21.55\n"
     ]
    }
   ],
   "source": [
    "# Calculate the correlation coefficient and linear regression model \n",
    "# for mouse weight and average tumor volume for the Capomulin regimen\n",
    "#dependency\n",
    "from scipy.stats import linregress\n",
    "#linregress formula\n",
    "(slope, intercept, rvalue, pvalue, stderr) = linregress(cap_ave['Weight (g)'],cap_ave['Tumor Volume (mm3)'])\n",
    "regress_values = cap_ave['Weight (g)'] * slope + intercept\n",
    "line_eq = \"y = \" + str(round(slope,2)) + \"x + \" + str(round(intercept,2))\n",
    "#replot the above scatterplot\n",
    "plt.scatter(cap_ave['Weight (g)'],cap_ave['Tumor Volume (mm3)'], marker='o', facecolors = \"blue\",)\n",
    "plt.xlabel('Weight (g)')\n",
    "plt.ylabel('Average Tumor Volume (mm3)')\n",
    "plt.title('Mouse Weight versus Average Tumor Volume for Capomulin')\n",
    "plt.plot(cap_ave['Weight (g)'],regress_values,\"r-\")\n",
    "plt.annotate(line_eq,(22,38),fontsize=10,color=\"red\")\n",
    "plt.show()\n",
    "print(f'The correlation coefficient (r) is {rvalue}')\n",
    "print(f'The r-squared value is {rvalue**2}')\n",
    "print(f'The line equation is {line_eq}')"
   ]
  },
  {
   "cell_type": "code",
   "execution_count": null,
   "metadata": {},
   "outputs": [],
   "source": []
  }
 ],
 "metadata": {
  "anaconda-cloud": {},
  "kernelspec": {
   "display_name": "Python 3",
   "language": "python",
   "name": "python3"
  },
  "language_info": {
   "codemirror_mode": {
    "name": "ipython",
    "version": 3
   },
   "file_extension": ".py",
   "mimetype": "text/x-python",
   "name": "python",
   "nbconvert_exporter": "python",
   "pygments_lexer": "ipython3",
   "version": "3.7.6"
  }
 },
 "nbformat": 4,
 "nbformat_minor": 2
}
